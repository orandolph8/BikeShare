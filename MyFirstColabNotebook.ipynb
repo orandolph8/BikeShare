{
  "nbformat": 4,
  "nbformat_minor": 0,
  "metadata": {
    "colab": {
      "provenance": [],
      "gpuType": "T4",
      "mount_file_id": "11rhFjT0Y1PLsZ54w652efTDCmCciuQYq",
      "authorship_tag": "ABX9TyMx+4dFzF1fcvZoFg+2Rl+V",
      "include_colab_link": true
    },
    "kernelspec": {
      "name": "python3",
      "display_name": "Python 3"
    },
    "language_info": {
      "name": "python"
    },
    "accelerator": "GPU"
  },
  "cells": [
    {
      "cell_type": "markdown",
      "metadata": {
        "id": "view-in-github",
        "colab_type": "text"
      },
      "source": [
        "<a href=\"https://colab.research.google.com/github/orandolph8/BikeShare/blob/main/MyFirstColabNotebook.ipynb\" target=\"_parent\"><img src=\"https://colab.research.google.com/assets/colab-badge.svg\" alt=\"Open In Colab\"/></a>"
      ]
    },
    {
      "cell_type": "markdown",
      "source": [
        "## **Owen Randolph, Week 1 Coding Practice Submission, DSCI-D590 Applied Data Science 9998**"
      ],
      "metadata": {
        "id": "dAmhthLAra6q"
      }
    },
    {
      "cell_type": "code",
      "source": [
        "time.sleep(5)\n",
        "print (time.ctime())"
      ],
      "metadata": {
        "colab": {
          "base_uri": "https://localhost:8080/"
        },
        "id": "NeX4F_5dJJX6",
        "outputId": "09073f8d-1e51-4607-a5b5-c118494aecc9"
      },
      "execution_count": null,
      "outputs": [
        {
          "output_type": "stream",
          "name": "stdout",
          "text": [
            "Wed Aug 28 01:46:38 2024\n"
          ]
        }
      ]
    },
    {
      "cell_type": "code",
      "execution_count": null,
      "metadata": {
        "colab": {
          "base_uri": "https://localhost:8080/"
        },
        "id": "xvZlqBfXIwhR",
        "outputId": "5c0f5617-880c-45f7-d900-c4163a969b0f"
      },
      "outputs": [
        {
          "output_type": "stream",
          "name": "stdout",
          "text": [
            "Wed Aug 28 01:46:32 2024\n"
          ]
        }
      ],
      "source": [
        "import time\n",
        "print(time.ctime())"
      ]
    },
    {
      "cell_type": "markdown",
      "source": [
        "This is **bold**.\n",
        "This is *italic*.\n",
        "This is ~strikethrough~."
      ],
      "metadata": {
        "id": "PKWe8yibJonk"
      }
    },
    {
      "cell_type": "markdown",
      "source": [
        "$\\sqrt{3x-1}+(1+x)^2$"
      ],
      "metadata": {
        "id": "sKYAt0i4JrPq"
      }
    },
    {
      "cell_type": "markdown",
      "source": [
        "$e^x = \\sum_{i = 0}^\\infty \\frac{1}{i!}x^i$"
      ],
      "metadata": {
        "id": "GI5Ht5PPJmbw"
      }
    },
    {
      "cell_type": "code",
      "source": [
        "message = 'A Great Tutorial on Colab by Tutorialspoint!'\n",
        "greeting = !echo -e \"$message\\n$message\"\n",
        "greeting"
      ],
      "metadata": {
        "colab": {
          "base_uri": "https://localhost:8080/"
        },
        "id": "4KOADn4NKHMV",
        "outputId": "ad65c081-7ee2-4ba7-c8aa-cc2d52627cc4"
      },
      "execution_count": null,
      "outputs": [
        {
          "output_type": "execute_result",
          "data": {
            "text/plain": [
              "['A Great Tutorial on Colab by Tutorialspoint!',\n",
              " 'A Great Tutorial on Colab by Tutorialspoint!']"
            ]
          },
          "metadata": {},
          "execution_count": 28
        }
      ]
    },
    {
      "cell_type": "code",
      "source": [
        "!pwd"
      ],
      "metadata": {
        "colab": {
          "base_uri": "https://localhost:8080/"
        },
        "id": "2QKd9WCIKNdA",
        "outputId": "27a50813-c9ce-4d98-cfb4-2020b555dee7"
      },
      "execution_count": null,
      "outputs": [
        {
          "output_type": "stream",
          "name": "stdout",
          "text": [
            "/content\n"
          ]
        }
      ]
    },
    {
      "cell_type": "code",
      "source": [
        "# /content is the default location in your Colab session\n",
        "\n",
        "!wget https://archive.ics.uci.edu/static/public/2/adult.zip -P \"/content\""
      ],
      "metadata": {
        "colab": {
          "base_uri": "https://localhost:8080/"
        },
        "id": "6LXffGwaknnE",
        "outputId": "22b9b236-cb26-4c62-f4ff-892a93a6246e"
      },
      "execution_count": null,
      "outputs": [
        {
          "output_type": "stream",
          "name": "stdout",
          "text": [
            "--2024-08-28 01:46:39--  https://archive.ics.uci.edu/static/public/2/adult.zip\n",
            "Resolving archive.ics.uci.edu (archive.ics.uci.edu)... 128.195.10.252\n",
            "Connecting to archive.ics.uci.edu (archive.ics.uci.edu)|128.195.10.252|:443... connected.\n",
            "HTTP request sent, awaiting response... 200 OK\n",
            "Length: unspecified\n",
            "Saving to: ‘/content/adult.zip.2’\n",
            "\n",
            "adult.zip.2             [ <=>                ] 605.70K  --.-KB/s    in 0.05s   \n",
            "\n",
            "2024-08-28 01:46:39 (12.0 MB/s) - ‘/content/adult.zip.2’ saved [620237]\n",
            "\n"
          ]
        }
      ]
    },
    {
      "cell_type": "code",
      "source": [
        "!ls"
      ],
      "metadata": {
        "colab": {
          "base_uri": "https://localhost:8080/"
        },
        "id": "KqzzHD25KwfL",
        "outputId": "4ae11bc2-5912-4096-8c5b-2621e8cf8c44"
      },
      "execution_count": null,
      "outputs": [
        {
          "output_type": "stream",
          "name": "stdout",
          "text": [
            "adult.data   adult.test  adult.zip.1  drive  keras-mnist-tutorial  sample_data\n",
            "adult.names  adult.zip\t adult.zip.2  Index  old.adult.names\n"
          ]
        }
      ]
    },
    {
      "cell_type": "code",
      "source": [
        "!unzip \"/content/adult.zip\""
      ],
      "metadata": {
        "colab": {
          "base_uri": "https://localhost:8080/"
        },
        "id": "Dq05DSRdkw2_",
        "outputId": "1e6d9664-57a6-40fa-b005-3e9bb98f320c"
      },
      "execution_count": null,
      "outputs": [
        {
          "output_type": "stream",
          "name": "stdout",
          "text": [
            "Archive:  /content/adult.zip\n",
            "replace Index? [y]es, [n]o, [A]ll, [N]one, [r]ename: y\n",
            "  inflating: Index                   \n",
            "replace adult.data? [y]es, [n]o, [A]ll, [N]one, [r]ename: y\n",
            "  inflating: adult.data              \n",
            "replace adult.names? [y]es, [n]o, [A]ll, [N]one, [r]ename: y\n",
            "  inflating: adult.names             \n",
            "replace adult.test? [y]es, [n]o, [A]ll, [N]one, [r]ename: y\n",
            "  inflating: adult.test              \n",
            "replace old.adult.names? [y]es, [n]o, [A]ll, [N]one, [r]ename: y\n",
            "  inflating: old.adult.names         \n"
          ]
        }
      ]
    },
    {
      "cell_type": "code",
      "source": [
        "import pandas as pd\n",
        "data = pd.read_csv(\"/content/adult.data\")\n",
        "data.head(5)"
      ],
      "metadata": {
        "colab": {
          "base_uri": "https://localhost:8080/",
          "height": 206
        },
        "id": "pqn0_O8lk1IZ",
        "outputId": "fabbe84a-ea7e-46c3-85b8-eb19be28aec8"
      },
      "execution_count": null,
      "outputs": [
        {
          "output_type": "execute_result",
          "data": {
            "text/plain": [
              "   39          State-gov   77516   Bachelors   13        Never-married  \\\n",
              "0  50   Self-emp-not-inc   83311   Bachelors   13   Married-civ-spouse   \n",
              "1  38            Private  215646     HS-grad    9             Divorced   \n",
              "2  53            Private  234721        11th    7   Married-civ-spouse   \n",
              "3  28            Private  338409   Bachelors   13   Married-civ-spouse   \n",
              "4  37            Private  284582     Masters   14   Married-civ-spouse   \n",
              "\n",
              "         Adm-clerical   Not-in-family   White     Male   2174   0   40  \\\n",
              "0     Exec-managerial         Husband   White     Male      0   0   13   \n",
              "1   Handlers-cleaners   Not-in-family   White     Male      0   0   40   \n",
              "2   Handlers-cleaners         Husband   Black     Male      0   0   40   \n",
              "3      Prof-specialty            Wife   Black   Female      0   0   40   \n",
              "4     Exec-managerial            Wife   White   Female      0   0   40   \n",
              "\n",
              "    United-States   <=50K  \n",
              "0   United-States   <=50K  \n",
              "1   United-States   <=50K  \n",
              "2   United-States   <=50K  \n",
              "3            Cuba   <=50K  \n",
              "4   United-States   <=50K  "
            ],
            "text/html": [
              "\n",
              "  <div id=\"df-786b2d32-1457-4522-bcb3-3720c65c1d99\" class=\"colab-df-container\">\n",
              "    <div>\n",
              "<style scoped>\n",
              "    .dataframe tbody tr th:only-of-type {\n",
              "        vertical-align: middle;\n",
              "    }\n",
              "\n",
              "    .dataframe tbody tr th {\n",
              "        vertical-align: top;\n",
              "    }\n",
              "\n",
              "    .dataframe thead th {\n",
              "        text-align: right;\n",
              "    }\n",
              "</style>\n",
              "<table border=\"1\" class=\"dataframe\">\n",
              "  <thead>\n",
              "    <tr style=\"text-align: right;\">\n",
              "      <th></th>\n",
              "      <th>39</th>\n",
              "      <th>State-gov</th>\n",
              "      <th>77516</th>\n",
              "      <th>Bachelors</th>\n",
              "      <th>13</th>\n",
              "      <th>Never-married</th>\n",
              "      <th>Adm-clerical</th>\n",
              "      <th>Not-in-family</th>\n",
              "      <th>White</th>\n",
              "      <th>Male</th>\n",
              "      <th>2174</th>\n",
              "      <th>0</th>\n",
              "      <th>40</th>\n",
              "      <th>United-States</th>\n",
              "      <th>&lt;=50K</th>\n",
              "    </tr>\n",
              "  </thead>\n",
              "  <tbody>\n",
              "    <tr>\n",
              "      <th>0</th>\n",
              "      <td>50</td>\n",
              "      <td>Self-emp-not-inc</td>\n",
              "      <td>83311</td>\n",
              "      <td>Bachelors</td>\n",
              "      <td>13</td>\n",
              "      <td>Married-civ-spouse</td>\n",
              "      <td>Exec-managerial</td>\n",
              "      <td>Husband</td>\n",
              "      <td>White</td>\n",
              "      <td>Male</td>\n",
              "      <td>0</td>\n",
              "      <td>0</td>\n",
              "      <td>13</td>\n",
              "      <td>United-States</td>\n",
              "      <td>&lt;=50K</td>\n",
              "    </tr>\n",
              "    <tr>\n",
              "      <th>1</th>\n",
              "      <td>38</td>\n",
              "      <td>Private</td>\n",
              "      <td>215646</td>\n",
              "      <td>HS-grad</td>\n",
              "      <td>9</td>\n",
              "      <td>Divorced</td>\n",
              "      <td>Handlers-cleaners</td>\n",
              "      <td>Not-in-family</td>\n",
              "      <td>White</td>\n",
              "      <td>Male</td>\n",
              "      <td>0</td>\n",
              "      <td>0</td>\n",
              "      <td>40</td>\n",
              "      <td>United-States</td>\n",
              "      <td>&lt;=50K</td>\n",
              "    </tr>\n",
              "    <tr>\n",
              "      <th>2</th>\n",
              "      <td>53</td>\n",
              "      <td>Private</td>\n",
              "      <td>234721</td>\n",
              "      <td>11th</td>\n",
              "      <td>7</td>\n",
              "      <td>Married-civ-spouse</td>\n",
              "      <td>Handlers-cleaners</td>\n",
              "      <td>Husband</td>\n",
              "      <td>Black</td>\n",
              "      <td>Male</td>\n",
              "      <td>0</td>\n",
              "      <td>0</td>\n",
              "      <td>40</td>\n",
              "      <td>United-States</td>\n",
              "      <td>&lt;=50K</td>\n",
              "    </tr>\n",
              "    <tr>\n",
              "      <th>3</th>\n",
              "      <td>28</td>\n",
              "      <td>Private</td>\n",
              "      <td>338409</td>\n",
              "      <td>Bachelors</td>\n",
              "      <td>13</td>\n",
              "      <td>Married-civ-spouse</td>\n",
              "      <td>Prof-specialty</td>\n",
              "      <td>Wife</td>\n",
              "      <td>Black</td>\n",
              "      <td>Female</td>\n",
              "      <td>0</td>\n",
              "      <td>0</td>\n",
              "      <td>40</td>\n",
              "      <td>Cuba</td>\n",
              "      <td>&lt;=50K</td>\n",
              "    </tr>\n",
              "    <tr>\n",
              "      <th>4</th>\n",
              "      <td>37</td>\n",
              "      <td>Private</td>\n",
              "      <td>284582</td>\n",
              "      <td>Masters</td>\n",
              "      <td>14</td>\n",
              "      <td>Married-civ-spouse</td>\n",
              "      <td>Exec-managerial</td>\n",
              "      <td>Wife</td>\n",
              "      <td>White</td>\n",
              "      <td>Female</td>\n",
              "      <td>0</td>\n",
              "      <td>0</td>\n",
              "      <td>40</td>\n",
              "      <td>United-States</td>\n",
              "      <td>&lt;=50K</td>\n",
              "    </tr>\n",
              "  </tbody>\n",
              "</table>\n",
              "</div>\n",
              "    <div class=\"colab-df-buttons\">\n",
              "\n",
              "  <div class=\"colab-df-container\">\n",
              "    <button class=\"colab-df-convert\" onclick=\"convertToInteractive('df-786b2d32-1457-4522-bcb3-3720c65c1d99')\"\n",
              "            title=\"Convert this dataframe to an interactive table.\"\n",
              "            style=\"display:none;\">\n",
              "\n",
              "  <svg xmlns=\"http://www.w3.org/2000/svg\" height=\"24px\" viewBox=\"0 -960 960 960\">\n",
              "    <path d=\"M120-120v-720h720v720H120Zm60-500h600v-160H180v160Zm220 220h160v-160H400v160Zm0 220h160v-160H400v160ZM180-400h160v-160H180v160Zm440 0h160v-160H620v160ZM180-180h160v-160H180v160Zm440 0h160v-160H620v160Z\"/>\n",
              "  </svg>\n",
              "    </button>\n",
              "\n",
              "  <style>\n",
              "    .colab-df-container {\n",
              "      display:flex;\n",
              "      gap: 12px;\n",
              "    }\n",
              "\n",
              "    .colab-df-convert {\n",
              "      background-color: #E8F0FE;\n",
              "      border: none;\n",
              "      border-radius: 50%;\n",
              "      cursor: pointer;\n",
              "      display: none;\n",
              "      fill: #1967D2;\n",
              "      height: 32px;\n",
              "      padding: 0 0 0 0;\n",
              "      width: 32px;\n",
              "    }\n",
              "\n",
              "    .colab-df-convert:hover {\n",
              "      background-color: #E2EBFA;\n",
              "      box-shadow: 0px 1px 2px rgba(60, 64, 67, 0.3), 0px 1px 3px 1px rgba(60, 64, 67, 0.15);\n",
              "      fill: #174EA6;\n",
              "    }\n",
              "\n",
              "    .colab-df-buttons div {\n",
              "      margin-bottom: 4px;\n",
              "    }\n",
              "\n",
              "    [theme=dark] .colab-df-convert {\n",
              "      background-color: #3B4455;\n",
              "      fill: #D2E3FC;\n",
              "    }\n",
              "\n",
              "    [theme=dark] .colab-df-convert:hover {\n",
              "      background-color: #434B5C;\n",
              "      box-shadow: 0px 1px 3px 1px rgba(0, 0, 0, 0.15);\n",
              "      filter: drop-shadow(0px 1px 2px rgba(0, 0, 0, 0.3));\n",
              "      fill: #FFFFFF;\n",
              "    }\n",
              "  </style>\n",
              "\n",
              "    <script>\n",
              "      const buttonEl =\n",
              "        document.querySelector('#df-786b2d32-1457-4522-bcb3-3720c65c1d99 button.colab-df-convert');\n",
              "      buttonEl.style.display =\n",
              "        google.colab.kernel.accessAllowed ? 'block' : 'none';\n",
              "\n",
              "      async function convertToInteractive(key) {\n",
              "        const element = document.querySelector('#df-786b2d32-1457-4522-bcb3-3720c65c1d99');\n",
              "        const dataTable =\n",
              "          await google.colab.kernel.invokeFunction('convertToInteractive',\n",
              "                                                    [key], {});\n",
              "        if (!dataTable) return;\n",
              "\n",
              "        const docLinkHtml = 'Like what you see? Visit the ' +\n",
              "          '<a target=\"_blank\" href=https://colab.research.google.com/notebooks/data_table.ipynb>data table notebook</a>'\n",
              "          + ' to learn more about interactive tables.';\n",
              "        element.innerHTML = '';\n",
              "        dataTable['output_type'] = 'display_data';\n",
              "        await google.colab.output.renderOutput(dataTable, element);\n",
              "        const docLink = document.createElement('div');\n",
              "        docLink.innerHTML = docLinkHtml;\n",
              "        element.appendChild(docLink);\n",
              "      }\n",
              "    </script>\n",
              "  </div>\n",
              "\n",
              "\n",
              "<div id=\"df-3b500baf-a5d5-488a-9546-6d5c831b07fa\">\n",
              "  <button class=\"colab-df-quickchart\" onclick=\"quickchart('df-3b500baf-a5d5-488a-9546-6d5c831b07fa')\"\n",
              "            title=\"Suggest charts\"\n",
              "            style=\"display:none;\">\n",
              "\n",
              "<svg xmlns=\"http://www.w3.org/2000/svg\" height=\"24px\"viewBox=\"0 0 24 24\"\n",
              "     width=\"24px\">\n",
              "    <g>\n",
              "        <path d=\"M19 3H5c-1.1 0-2 .9-2 2v14c0 1.1.9 2 2 2h14c1.1 0 2-.9 2-2V5c0-1.1-.9-2-2-2zM9 17H7v-7h2v7zm4 0h-2V7h2v10zm4 0h-2v-4h2v4z\"/>\n",
              "    </g>\n",
              "</svg>\n",
              "  </button>\n",
              "\n",
              "<style>\n",
              "  .colab-df-quickchart {\n",
              "      --bg-color: #E8F0FE;\n",
              "      --fill-color: #1967D2;\n",
              "      --hover-bg-color: #E2EBFA;\n",
              "      --hover-fill-color: #174EA6;\n",
              "      --disabled-fill-color: #AAA;\n",
              "      --disabled-bg-color: #DDD;\n",
              "  }\n",
              "\n",
              "  [theme=dark] .colab-df-quickchart {\n",
              "      --bg-color: #3B4455;\n",
              "      --fill-color: #D2E3FC;\n",
              "      --hover-bg-color: #434B5C;\n",
              "      --hover-fill-color: #FFFFFF;\n",
              "      --disabled-bg-color: #3B4455;\n",
              "      --disabled-fill-color: #666;\n",
              "  }\n",
              "\n",
              "  .colab-df-quickchart {\n",
              "    background-color: var(--bg-color);\n",
              "    border: none;\n",
              "    border-radius: 50%;\n",
              "    cursor: pointer;\n",
              "    display: none;\n",
              "    fill: var(--fill-color);\n",
              "    height: 32px;\n",
              "    padding: 0;\n",
              "    width: 32px;\n",
              "  }\n",
              "\n",
              "  .colab-df-quickchart:hover {\n",
              "    background-color: var(--hover-bg-color);\n",
              "    box-shadow: 0 1px 2px rgba(60, 64, 67, 0.3), 0 1px 3px 1px rgba(60, 64, 67, 0.15);\n",
              "    fill: var(--button-hover-fill-color);\n",
              "  }\n",
              "\n",
              "  .colab-df-quickchart-complete:disabled,\n",
              "  .colab-df-quickchart-complete:disabled:hover {\n",
              "    background-color: var(--disabled-bg-color);\n",
              "    fill: var(--disabled-fill-color);\n",
              "    box-shadow: none;\n",
              "  }\n",
              "\n",
              "  .colab-df-spinner {\n",
              "    border: 2px solid var(--fill-color);\n",
              "    border-color: transparent;\n",
              "    border-bottom-color: var(--fill-color);\n",
              "    animation:\n",
              "      spin 1s steps(1) infinite;\n",
              "  }\n",
              "\n",
              "  @keyframes spin {\n",
              "    0% {\n",
              "      border-color: transparent;\n",
              "      border-bottom-color: var(--fill-color);\n",
              "      border-left-color: var(--fill-color);\n",
              "    }\n",
              "    20% {\n",
              "      border-color: transparent;\n",
              "      border-left-color: var(--fill-color);\n",
              "      border-top-color: var(--fill-color);\n",
              "    }\n",
              "    30% {\n",
              "      border-color: transparent;\n",
              "      border-left-color: var(--fill-color);\n",
              "      border-top-color: var(--fill-color);\n",
              "      border-right-color: var(--fill-color);\n",
              "    }\n",
              "    40% {\n",
              "      border-color: transparent;\n",
              "      border-right-color: var(--fill-color);\n",
              "      border-top-color: var(--fill-color);\n",
              "    }\n",
              "    60% {\n",
              "      border-color: transparent;\n",
              "      border-right-color: var(--fill-color);\n",
              "    }\n",
              "    80% {\n",
              "      border-color: transparent;\n",
              "      border-right-color: var(--fill-color);\n",
              "      border-bottom-color: var(--fill-color);\n",
              "    }\n",
              "    90% {\n",
              "      border-color: transparent;\n",
              "      border-bottom-color: var(--fill-color);\n",
              "    }\n",
              "  }\n",
              "</style>\n",
              "\n",
              "  <script>\n",
              "    async function quickchart(key) {\n",
              "      const quickchartButtonEl =\n",
              "        document.querySelector('#' + key + ' button');\n",
              "      quickchartButtonEl.disabled = true;  // To prevent multiple clicks.\n",
              "      quickchartButtonEl.classList.add('colab-df-spinner');\n",
              "      try {\n",
              "        const charts = await google.colab.kernel.invokeFunction(\n",
              "            'suggestCharts', [key], {});\n",
              "      } catch (error) {\n",
              "        console.error('Error during call to suggestCharts:', error);\n",
              "      }\n",
              "      quickchartButtonEl.classList.remove('colab-df-spinner');\n",
              "      quickchartButtonEl.classList.add('colab-df-quickchart-complete');\n",
              "    }\n",
              "    (() => {\n",
              "      let quickchartButtonEl =\n",
              "        document.querySelector('#df-3b500baf-a5d5-488a-9546-6d5c831b07fa button');\n",
              "      quickchartButtonEl.style.display =\n",
              "        google.colab.kernel.accessAllowed ? 'block' : 'none';\n",
              "    })();\n",
              "  </script>\n",
              "</div>\n",
              "\n",
              "    </div>\n",
              "  </div>\n"
            ],
            "application/vnd.google.colaboratory.intrinsic+json": {
              "type": "dataframe",
              "variable_name": "data",
              "summary": "{\n  \"name\": \"data\",\n  \"rows\": 32560,\n  \"fields\": [\n    {\n      \"column\": \"39\",\n      \"properties\": {\n        \"dtype\": \"number\",\n        \"std\": 13,\n        \"min\": 17,\n        \"max\": 90,\n        \"num_unique_values\": 73,\n        \"samples\": [\n          37,\n          73,\n          59\n        ],\n        \"semantic_type\": \"\",\n        \"description\": \"\"\n      }\n    },\n    {\n      \"column\": \" State-gov\",\n      \"properties\": {\n        \"dtype\": \"category\",\n        \"num_unique_values\": 9,\n        \"samples\": [\n          \" Without-pay\",\n          \" Private\",\n          \" ?\"\n        ],\n        \"semantic_type\": \"\",\n        \"description\": \"\"\n      }\n    },\n    {\n      \"column\": \" 77516\",\n      \"properties\": {\n        \"dtype\": \"number\",\n        \"std\": 105549,\n        \"min\": 12285,\n        \"max\": 1484705,\n        \"num_unique_values\": 21647,\n        \"samples\": [\n          78036,\n          201481,\n          558490\n        ],\n        \"semantic_type\": \"\",\n        \"description\": \"\"\n      }\n    },\n    {\n      \"column\": \" Bachelors\",\n      \"properties\": {\n        \"dtype\": \"category\",\n        \"num_unique_values\": 16,\n        \"samples\": [\n          \" Bachelors\",\n          \" HS-grad\",\n          \" Some-college\"\n        ],\n        \"semantic_type\": \"\",\n        \"description\": \"\"\n      }\n    },\n    {\n      \"column\": \" 13\",\n      \"properties\": {\n        \"dtype\": \"number\",\n        \"std\": 2,\n        \"min\": 1,\n        \"max\": 16,\n        \"num_unique_values\": 16,\n        \"samples\": [\n          13,\n          9,\n          10\n        ],\n        \"semantic_type\": \"\",\n        \"description\": \"\"\n      }\n    },\n    {\n      \"column\": \" Never-married\",\n      \"properties\": {\n        \"dtype\": \"category\",\n        \"num_unique_values\": 7,\n        \"samples\": [\n          \" Married-civ-spouse\",\n          \" Divorced\",\n          \" Married-AF-spouse\"\n        ],\n        \"semantic_type\": \"\",\n        \"description\": \"\"\n      }\n    },\n    {\n      \"column\": \" Adm-clerical\",\n      \"properties\": {\n        \"dtype\": \"category\",\n        \"num_unique_values\": 15,\n        \"samples\": [\n          \" Machine-op-inspct\",\n          \" ?\",\n          \" Exec-managerial\"\n        ],\n        \"semantic_type\": \"\",\n        \"description\": \"\"\n      }\n    },\n    {\n      \"column\": \" Not-in-family\",\n      \"properties\": {\n        \"dtype\": \"category\",\n        \"num_unique_values\": 6,\n        \"samples\": [\n          \" Husband\",\n          \" Not-in-family\",\n          \" Other-relative\"\n        ],\n        \"semantic_type\": \"\",\n        \"description\": \"\"\n      }\n    },\n    {\n      \"column\": \" White\",\n      \"properties\": {\n        \"dtype\": \"category\",\n        \"num_unique_values\": 5,\n        \"samples\": [\n          \" Black\",\n          \" Other\",\n          \" Asian-Pac-Islander\"\n        ],\n        \"semantic_type\": \"\",\n        \"description\": \"\"\n      }\n    },\n    {\n      \"column\": \" Male\",\n      \"properties\": {\n        \"dtype\": \"category\",\n        \"num_unique_values\": 2,\n        \"samples\": [\n          \" Female\",\n          \" Male\"\n        ],\n        \"semantic_type\": \"\",\n        \"description\": \"\"\n      }\n    },\n    {\n      \"column\": \" 2174\",\n      \"properties\": {\n        \"dtype\": \"number\",\n        \"std\": 7385,\n        \"min\": 0,\n        \"max\": 99999,\n        \"num_unique_values\": 119,\n        \"samples\": [\n          3781,\n          15831\n        ],\n        \"semantic_type\": \"\",\n        \"description\": \"\"\n      }\n    },\n    {\n      \"column\": \" 0\",\n      \"properties\": {\n        \"dtype\": \"number\",\n        \"std\": 402,\n        \"min\": 0,\n        \"max\": 4356,\n        \"num_unique_values\": 92,\n        \"samples\": [\n          419,\n          2051\n        ],\n        \"semantic_type\": \"\",\n        \"description\": \"\"\n      }\n    },\n    {\n      \"column\": \" 40\",\n      \"properties\": {\n        \"dtype\": \"number\",\n        \"std\": 12,\n        \"min\": 1,\n        \"max\": 99,\n        \"num_unique_values\": 94,\n        \"samples\": [\n          6,\n          22\n        ],\n        \"semantic_type\": \"\",\n        \"description\": \"\"\n      }\n    },\n    {\n      \"column\": \" United-States\",\n      \"properties\": {\n        \"dtype\": \"category\",\n        \"num_unique_values\": 42,\n        \"samples\": [\n          \" El-Salvador\",\n          \" Philippines\"\n        ],\n        \"semantic_type\": \"\",\n        \"description\": \"\"\n      }\n    },\n    {\n      \"column\": \" <=50K\",\n      \"properties\": {\n        \"dtype\": \"category\",\n        \"num_unique_values\": 2,\n        \"samples\": [\n          \" >50K\",\n          \" <=50K\"\n        ],\n        \"semantic_type\": \"\",\n        \"description\": \"\"\n      }\n    }\n  ]\n}"
            }
          },
          "metadata": {},
          "execution_count": 33
        }
      ]
    },
    {
      "cell_type": "code",
      "source": [
        "from google.colab import files\n",
        "uploaded = files.upload()"
      ],
      "metadata": {
        "colab": {
          "base_uri": "https://localhost:8080/",
          "height": 38
        },
        "id": "kUK1BtTcqaWX",
        "outputId": "6c690be7-160c-41e8-e3f3-1acd0a561a8a"
      },
      "execution_count": null,
      "outputs": [
        {
          "data": {
            "text/html": [
              "\n",
              "     <input type=\"file\" id=\"files-a045edef-f68e-4db3-bdcd-4d273a98a808\" name=\"files[]\" multiple disabled\n",
              "        style=\"border:none\" />\n",
              "     <output id=\"result-a045edef-f68e-4db3-bdcd-4d273a98a808\">\n",
              "      Upload widget is only available when the cell has been executed in the\n",
              "      current browser session. Please rerun this cell to enable.\n",
              "      </output>\n",
              "      <script>// Copyright 2017 Google LLC\n",
              "//\n",
              "// Licensed under the Apache License, Version 2.0 (the \"License\");\n",
              "// you may not use this file except in compliance with the License.\n",
              "// You may obtain a copy of the License at\n",
              "//\n",
              "//      http://www.apache.org/licenses/LICENSE-2.0\n",
              "//\n",
              "// Unless required by applicable law or agreed to in writing, software\n",
              "// distributed under the License is distributed on an \"AS IS\" BASIS,\n",
              "// WITHOUT WARRANTIES OR CONDITIONS OF ANY KIND, either express or implied.\n",
              "// See the License for the specific language governing permissions and\n",
              "// limitations under the License.\n",
              "\n",
              "/**\n",
              " * @fileoverview Helpers for google.colab Python module.\n",
              " */\n",
              "(function(scope) {\n",
              "function span(text, styleAttributes = {}) {\n",
              "  const element = document.createElement('span');\n",
              "  element.textContent = text;\n",
              "  for (const key of Object.keys(styleAttributes)) {\n",
              "    element.style[key] = styleAttributes[key];\n",
              "  }\n",
              "  return element;\n",
              "}\n",
              "\n",
              "// Max number of bytes which will be uploaded at a time.\n",
              "const MAX_PAYLOAD_SIZE = 100 * 1024;\n",
              "\n",
              "function _uploadFiles(inputId, outputId) {\n",
              "  const steps = uploadFilesStep(inputId, outputId);\n",
              "  const outputElement = document.getElementById(outputId);\n",
              "  // Cache steps on the outputElement to make it available for the next call\n",
              "  // to uploadFilesContinue from Python.\n",
              "  outputElement.steps = steps;\n",
              "\n",
              "  return _uploadFilesContinue(outputId);\n",
              "}\n",
              "\n",
              "// This is roughly an async generator (not supported in the browser yet),\n",
              "// where there are multiple asynchronous steps and the Python side is going\n",
              "// to poll for completion of each step.\n",
              "// This uses a Promise to block the python side on completion of each step,\n",
              "// then passes the result of the previous step as the input to the next step.\n",
              "function _uploadFilesContinue(outputId) {\n",
              "  const outputElement = document.getElementById(outputId);\n",
              "  const steps = outputElement.steps;\n",
              "\n",
              "  const next = steps.next(outputElement.lastPromiseValue);\n",
              "  return Promise.resolve(next.value.promise).then((value) => {\n",
              "    // Cache the last promise value to make it available to the next\n",
              "    // step of the generator.\n",
              "    outputElement.lastPromiseValue = value;\n",
              "    return next.value.response;\n",
              "  });\n",
              "}\n",
              "\n",
              "/**\n",
              " * Generator function which is called between each async step of the upload\n",
              " * process.\n",
              " * @param {string} inputId Element ID of the input file picker element.\n",
              " * @param {string} outputId Element ID of the output display.\n",
              " * @return {!Iterable<!Object>} Iterable of next steps.\n",
              " */\n",
              "function* uploadFilesStep(inputId, outputId) {\n",
              "  const inputElement = document.getElementById(inputId);\n",
              "  inputElement.disabled = false;\n",
              "\n",
              "  const outputElement = document.getElementById(outputId);\n",
              "  outputElement.innerHTML = '';\n",
              "\n",
              "  const pickedPromise = new Promise((resolve) => {\n",
              "    inputElement.addEventListener('change', (e) => {\n",
              "      resolve(e.target.files);\n",
              "    });\n",
              "  });\n",
              "\n",
              "  const cancel = document.createElement('button');\n",
              "  inputElement.parentElement.appendChild(cancel);\n",
              "  cancel.textContent = 'Cancel upload';\n",
              "  const cancelPromise = new Promise((resolve) => {\n",
              "    cancel.onclick = () => {\n",
              "      resolve(null);\n",
              "    };\n",
              "  });\n",
              "\n",
              "  // Wait for the user to pick the files.\n",
              "  const files = yield {\n",
              "    promise: Promise.race([pickedPromise, cancelPromise]),\n",
              "    response: {\n",
              "      action: 'starting',\n",
              "    }\n",
              "  };\n",
              "\n",
              "  cancel.remove();\n",
              "\n",
              "  // Disable the input element since further picks are not allowed.\n",
              "  inputElement.disabled = true;\n",
              "\n",
              "  if (!files) {\n",
              "    return {\n",
              "      response: {\n",
              "        action: 'complete',\n",
              "      }\n",
              "    };\n",
              "  }\n",
              "\n",
              "  for (const file of files) {\n",
              "    const li = document.createElement('li');\n",
              "    li.append(span(file.name, {fontWeight: 'bold'}));\n",
              "    li.append(span(\n",
              "        `(${file.type || 'n/a'}) - ${file.size} bytes, ` +\n",
              "        `last modified: ${\n",
              "            file.lastModifiedDate ? file.lastModifiedDate.toLocaleDateString() :\n",
              "                                    'n/a'} - `));\n",
              "    const percent = span('0% done');\n",
              "    li.appendChild(percent);\n",
              "\n",
              "    outputElement.appendChild(li);\n",
              "\n",
              "    const fileDataPromise = new Promise((resolve) => {\n",
              "      const reader = new FileReader();\n",
              "      reader.onload = (e) => {\n",
              "        resolve(e.target.result);\n",
              "      };\n",
              "      reader.readAsArrayBuffer(file);\n",
              "    });\n",
              "    // Wait for the data to be ready.\n",
              "    let fileData = yield {\n",
              "      promise: fileDataPromise,\n",
              "      response: {\n",
              "        action: 'continue',\n",
              "      }\n",
              "    };\n",
              "\n",
              "    // Use a chunked sending to avoid message size limits. See b/62115660.\n",
              "    let position = 0;\n",
              "    do {\n",
              "      const length = Math.min(fileData.byteLength - position, MAX_PAYLOAD_SIZE);\n",
              "      const chunk = new Uint8Array(fileData, position, length);\n",
              "      position += length;\n",
              "\n",
              "      const base64 = btoa(String.fromCharCode.apply(null, chunk));\n",
              "      yield {\n",
              "        response: {\n",
              "          action: 'append',\n",
              "          file: file.name,\n",
              "          data: base64,\n",
              "        },\n",
              "      };\n",
              "\n",
              "      let percentDone = fileData.byteLength === 0 ?\n",
              "          100 :\n",
              "          Math.round((position / fileData.byteLength) * 100);\n",
              "      percent.textContent = `${percentDone}% done`;\n",
              "\n",
              "    } while (position < fileData.byteLength);\n",
              "  }\n",
              "\n",
              "  // All done.\n",
              "  yield {\n",
              "    response: {\n",
              "      action: 'complete',\n",
              "    }\n",
              "  };\n",
              "}\n",
              "\n",
              "scope.google = scope.google || {};\n",
              "scope.google.colab = scope.google.colab || {};\n",
              "scope.google.colab._files = {\n",
              "  _uploadFiles,\n",
              "  _uploadFilesContinue,\n",
              "};\n",
              "})(self);\n",
              "</script> "
            ],
            "text/plain": [
              "<IPython.core.display.HTML object>"
            ]
          },
          "metadata": {},
          "output_type": "display_data"
        }
      ]
    },
    {
      "cell_type": "code",
      "source": [
        "data = pd.read_csv(\"/content/stocks.csv\")\n",
        "data.head(5)"
      ],
      "metadata": {
        "id": "vwAxLGOMqlfY"
      },
      "execution_count": null,
      "outputs": []
    },
    {
      "cell_type": "code",
      "source": [
        "from google.colab import drive\n",
        "drive.mount('/content/drive')"
      ],
      "metadata": {
        "id": "2W4JE5V5qt1O"
      },
      "execution_count": null,
      "outputs": []
    },
    {
      "cell_type": "code",
      "source": [
        "!git clone https://github.com/wxs/keras-mnist-tutorial.git"
      ],
      "metadata": {
        "colab": {
          "base_uri": "https://localhost:8080/"
        },
        "id": "0qrs-6p4NWCd",
        "outputId": "bb3de0a2-9657-4508-e2f0-13dcb80cb75e"
      },
      "execution_count": null,
      "outputs": [
        {
          "output_type": "stream",
          "name": "stdout",
          "text": [
            "fatal: destination path 'keras-mnist-tutorial' already exists and is not an empty directory.\n"
          ]
        }
      ]
    },
    {
      "cell_type": "code",
      "source": [
        "!ls /bin"
      ],
      "metadata": {
        "colab": {
          "base_uri": "https://localhost:8080/"
        },
        "id": "nZipHHGdPS7i",
        "outputId": "e5fca977-5446-4972-f400-0642b8e505d0"
      },
      "execution_count": null,
      "outputs": [
        {
          "output_type": "stream",
          "name": "stdout",
          "text": [
            "'['\t\t\t\t      mountpoint\n",
            " 7z\t\t\t\t      mpexpand\n",
            " 7za\t\t\t\t      mpic++\n",
            " 7zr\t\t\t\t      mpicc\n",
            " aclocal\t\t\t      mpiCC\n",
            " aclocal-1.16\t\t\t      mpicc.openmpi\n",
            " acyclic\t\t\t      mpiCC.openmpi\n",
            " add-apt-repository\t\t      mpic++.openmpi\n",
            " addpart\t\t\t      mpicxx\n",
            " addr2line\t\t\t      mpicxx.openmpi\n",
            " aggregate_profile\t\t      mpiexec\n",
            " apropos\t\t\t      mpiexec.openmpi\n",
            " apt\t\t\t\t      mpif77\n",
            " apt-add-repository\t\t      mpif77.openmpi\n",
            " apt-cache\t\t\t      mpif90\n",
            " apt-cdrom\t\t\t      mpif90.openmpi\n",
            " apt-config\t\t\t      mpifort\n",
            " apt-extracttemplates\t\t      mpifort.openmpi\n",
            " apt-ftparchive\t\t\t      mpijavac\n",
            " apt-get\t\t\t      mpijavac.pl\n",
            " apt-key\t\t\t      mpirun\n",
            " apt-mark\t\t\t      mpirun.openmpi\n",
            " apt-sortpkgs\t\t\t      mv\n",
            " ar\t\t\t\t      mysql_config\n",
            " arch\t\t\t\t      namei\n",
            " as\t\t\t\t      nawk\n",
            " asan_symbolize\t\t\t      nc-config\n",
            " asan_symbolize-14\t\t      ncurses5-config\n",
            " autoconf\t\t\t      ncurses6-config\n",
            " autoheader\t\t\t      ncursesw5-config\n",
            " autom4te\t\t\t      ncursesw6-config\n",
            " automake\t\t\t      neato\n",
            " automake-1.16\t\t\t      neqn\n",
            " autoreconf\t\t\t      networkctl\n",
            " autoscan\t\t\t      newgrp\n",
            " autoupdate\t\t\t      nice\n",
            " awk\t\t\t\t      nisdomainname\n",
            " b2\t\t\t\t      nl\n",
            " b2sum\t\t\t\t      nm\n",
            " base32\t\t\t\t      nns\n",
            " base64\t\t\t\t      nnsd\n",
            " basename\t\t\t      nnslog\n",
            " basenc\t\t\t\t      nohup\n",
            " bash\t\t\t\t      nop\n",
            " bashbug\t\t\t      nproc\n",
            " bcomps\t\t\t\t      nroff\n",
            " bcp\t\t\t\t      nsenter\n",
            " bjam\t\t\t\t      nstat\n",
            " bootctl\t\t\t      numfmt\n",
            " browse\t\t\t\t      nvidia-bug-report.sh\n",
            " bunzip2\t\t\t      nvidia-cuda-mps-control\n",
            " busctl\t\t\t\t      nvidia-cuda-mps-server\n",
            " bzcat\t\t\t\t      nvidia-debugdump\n",
            " bzcmp\t\t\t\t      nvidia-installer\n",
            " bzdiff\t\t\t\t      nvidia-modprobe\n",
            " bzegrep\t\t\t      nvidia-ngx-updater\n",
            " bzexe\t\t\t\t      nvidia-persistenced\n",
            " bzfgrep\t\t\t      nvidia-powerd\n",
            " bzgrep\t\t\t\t      nvidia-settings\n",
            " bzip2\t\t\t\t      nvidia-sleep.sh\n",
            " bzip2recover\t\t\t      nvidia-smi\n",
            " bzless\t\t\t\t      nvidia-uninstall\n",
            " bzmore\t\t\t\t      nvidia-xconfig\n",
            " c++\t\t\t\t      objcopy\n",
            " c89\t\t\t\t      objdump\n",
            " c89-gcc\t\t\t      od\n",
            " c99\t\t\t\t      ogdi-config\n",
            " c99-gcc\t\t\t      ompi-clean\n",
            " captoinfo\t\t\t      ompi_info\n",
            " cat\t\t\t\t      ompi-server\n",
            " catman\t\t\t\t      opalc++\n",
            " cc\t\t\t\t      opalcc\n",
            " ccomps\t\t\t\t      opal_wrapper\n",
            " c++filt\t\t\t      open\n",
            " chage\t\t\t\t      opencv_annotation\n",
            " chattr\t\t\t\t      opencv_interactive-calibration\n",
            " chcon\t\t\t\t      opencv_model_diagnostics\n",
            " chfn\t\t\t\t      opencv_version\n",
            " chgrp\t\t\t\t      opencv_visualisation\n",
            " chmod\t\t\t\t      opencv_waldboost_detector\n",
            " choom\t\t\t\t      openssl\n",
            " chown\t\t\t\t      ortecc\n",
            " chronic\t\t\t      orte-clean\n",
            " chrt\t\t\t\t      orted\n",
            " chsh\t\t\t\t      orte-info\n",
            " circo\t\t\t\t      orterun\n",
            " cksum\t\t\t\t      orte-server\n",
            " clang\t\t\t\t      osage\n",
            " clang++\t\t\t      oshc++\n",
            " clang++-14\t\t\t      oshcc\n",
            " clang-14\t\t\t      oshCC\n",
            " clang-cpp-14\t\t\t      oshcxx\n",
            " clear\t\t\t\t      oshfort\n",
            " clear_console\t\t\t      oshmem_info\n",
            " clinfo\t\t\t\t      oshrun\n",
            " cluster\t\t\t      p7zip\n",
            " cmake\t\t\t\t      pack200\n",
            " cmp\t\t\t\t      page\n",
            " col\t\t\t\t      pager\n",
            " colcrt\t\t\t\t      paperconf\n",
            " colrm\t\t\t\t      parallel\n",
            " column\t\t\t\t      partx\n",
            " combine\t\t\t      passwd\n",
            " comm\t\t\t\t      paste\n",
            " compile_et\t\t\t      patch\n",
            " corelist\t\t\t      patchwork\n",
            " cp\t\t\t\t      pathchk\n",
            " cpack\t\t\t\t      pcre2-config\n",
            " cpan\t\t\t\t      pcre-config\n",
            " cpan5.34-x86_64-linux-gnu\t      pdb3\n",
            " cpp\t\t\t\t      pdb3.10\n",
            " cpp-11\t\t\t\t      pee\n",
            " c_rehash\t\t\t      peekfd\n",
            " csplit\t\t\t\t      perl\n",
            " ctest\t\t\t\t      perl5.34.0\n",
            " ctstat\t\t\t\t      perl5.34-x86_64-linux-gnu\n",
            " curl\t\t\t\t      perlbug\n",
            " curl-config\t\t\t      perldoc\n",
            " cut\t\t\t\t      perlivp\n",
            " cvtsudoers\t\t\t      perlthanks\n",
            " dash\t\t\t\t      pg_config\n",
            " date\t\t\t\t      pgrep\n",
            " dbus-cleanup-sockets\t\t      pic\n",
            " dbus-daemon\t\t\t      piconv\n",
            " dbus-monitor\t\t\t      pidof\n",
            " dbus-run-session\t\t      pidwait\n",
            " dbus-send\t\t\t      pinentry\n",
            " dbus-update-activation-environment   pinentry-curses\n",
            " dbus-uuidgen\t\t\t      pinky\n",
            " dd\t\t\t\t      pkaction\n",
            " debconf\t\t\t      pkcheck\n",
            " debconf-apt-progress\t\t      pkexec\n",
            " debconf-communicate\t\t      pkgconf\n",
            " debconf-copydb\t\t\t      pkg-config\n",
            " debconf-escape\t\t\t      pkgdata\n",
            " debconf-set-selections\t\t      pkill\n",
            " debconf-show\t\t\t      pkttyagent\n",
            " deb-systemd-helper\t\t      pl2pm\n",
            " deb-systemd-invoke\t\t      pldd\n",
            " delpart\t\t\t      pmap\n",
            " derb\t\t\t\t      pod2html\n",
            " df\t\t\t\t      pod2man\n",
            " dh_autotools-dev_restoreconfig       pod2text\n",
            " dh_autotools-dev_updateconfig\t      pod2usage\n",
            " diff\t\t\t\t      podchecker\n",
            " diff3\t\t\t\t      pprof-symbolize\n",
            " diffimg\t\t\t      pr\n",
            " dijkstra\t\t\t      preconv\n",
            " dir\t\t\t\t      prename\n",
            " dircolors\t\t\t      printenv\n",
            " dirmngr\t\t\t      printf\n",
            " dirmngr-client\t\t\t      prlimit\n",
            " dirname\t\t\t      profile2mat\n",
            " dmesg\t\t\t\t      protoc\n",
            " dnsdomainname\t\t\t      prove\n",
            " domainname\t\t\t      prtstat\n",
            " dot\t\t\t\t      prune\n",
            " dot2gxl\t\t\t      ps\n",
            " dot_builtins\t\t\t      pslog\n",
            " dotty\t\t\t\t      pstree\n",
            " dpkg\t\t\t\t      pstree.x11\n",
            " dpkg-architecture\t\t      pt\n",
            " dpkg-buildflags\t\t      ptar\n",
            " dpkg-buildpackage\t\t      ptardiff\n",
            " dpkg-checkbuilddeps\t\t      ptargrep\n",
            " dpkg-deb\t\t\t      ptx\n",
            " dpkg-distaddfile\t\t      pwd\n",
            " dpkg-divert\t\t\t      pwdx\n",
            " dpkg-genbuildinfo\t\t      py3clean\n",
            " dpkg-genchanges\t\t      py3compile\n",
            " dpkg-gencontrol\t\t      py3versions\n",
            " dpkg-gensymbols\t\t      pydoc3\n",
            " dpkg-maintscript-helper\t      pydoc3.10\n",
            " dpkg-mergechangelogs\t\t      pygettext3\n",
            " dpkg-name\t\t\t      pygettext3.10\n",
            " dpkg-parsechangelog\t\t      python3\n",
            " dpkg-query\t\t\t      python3.10\n",
            " dpkg-realpath\t\t\t      python3.10-config\n",
            " dpkg-scanpackages\t\t      python3-config\n",
            " dpkg-scansources\t\t      qt-faststart\n",
            " dpkg-shlibdeps\t\t\t      quickbook\n",
            " dpkg-source\t\t\t      R\n",
            " dpkg-split\t\t\t      ranlib\n",
            " dpkg-statoverride\t\t      rbash\n",
            " dpkg-trigger\t\t\t      rcp\n",
            " dpkg-vendor\t\t\t      rdma\n",
            " dtplite\t\t\t      readelf\n",
            " du\t\t\t\t      readlink\n",
            " dwp\t\t\t\t      realpath\n",
            " echo\t\t\t\t      rename\n",
            " edgepaint\t\t\t      renice\n",
            " editor\t\t\t\t      reset\n",
            " egrep\t\t\t\t      resizepart\n",
            " elfedit\t\t\t      resolvectl\n",
            " enc2xs\t\t\t\t      rev\n",
            " encguess\t\t\t      rgrep\n",
            " env\t\t\t\t      rlogin\n",
            " eqn\t\t\t\t      rm\n",
            " errno\t\t\t\t      rmdir\n",
            " ex\t\t\t\t      rmic\n",
            " expand\t\t\t\t      rmid\n",
            " expiry\t\t\t\t      rmiregistry\n",
            " expr\t\t\t\t      routef\n",
            " f77\t\t\t\t      routel\n",
            " f95\t\t\t\t      rpcgen\n",
            " factor\t\t\t\t      rrsync\n",
            " faillog\t\t\t      Rscript\n",
            " fallocate\t\t\t      rsh\n",
            " false\t\t\t\t      rsync\n",
            " fc-cache\t\t\t      rsync-ssl\n",
            " fc-cat\t\t\t\t      rtstat\n",
            " fc-conflist\t\t\t      runcon\n",
            " fc-list\t\t\t      run-parts\n",
            " fc-match\t\t\t      rview\n",
            " fc-pattern\t\t\t      rvim\n",
            " fc-query\t\t\t      savelog\n",
            " fc-scan\t\t\t      sccmap\n",
            " fc-validate\t\t\t      scp\n",
            " fdp\t\t\t\t      script\n",
            " ffmpeg\t\t\t\t      scriptlive\n",
            " ffplay\t\t\t\t      scriptreplay\n",
            " ffprobe\t\t\t      sdiff\n",
            " fgrep\t\t\t\t      sed\n",
            " file\t\t\t\t      select-editor\n",
            " file-rename\t\t\t      sensible-browser\n",
            " fincore\t\t\t      sensible-editor\n",
            " find\t\t\t\t      sensible-pager\n",
            " findmnt\t\t\t      seq\n",
            " fio\t\t\t\t      serialver\n",
            " fio2gnuplot\t\t\t      setarch\n",
            " fio-btrace2fio\t\t\t      setpriv\n",
            " fio-dedupe\t\t\t      setsid\n",
            " fio_generate_plots\t\t      setterm\n",
            " fio-genzipf\t\t\t      sfdp\n",
            " fio_jsonplus_clat2csv\t\t      sftp\n",
            " fio-verify-state\t\t      sg\n",
            " flock\t\t\t\t      sh\n",
            " fmt\t\t\t\t      sha1sum\n",
            " fold\t\t\t\t      sha224sum\n",
            " free\t\t\t\t      sha256sum\n",
            " funzip\t\t\t\t      sha384sum\n",
            " fuser\t\t\t\t      sha512sum\n",
            " fusermount\t\t\t      shasum\n",
            " g++\t\t\t\t      shmemc++\n",
            " g++-11\t\t\t\t      shmemcc\n",
            " gapplication\t\t\t      shmemCC\n",
            " gc\t\t\t\t      shmemcxx\n",
            " gcc\t\t\t\t      shmemfort\n",
            " gcc-11\t\t\t\t      shmemrun\n",
            " gcc-ar\t\t\t\t      shred\n",
            " gcc-ar-11\t\t\t      shuf\n",
            " gcc-nm\t\t\t\t      size\n",
            " gcc-nm-11\t\t\t      skill\n",
            " gcc-ranlib\t\t\t      slabtop\n",
            " gcc-ranlib-11\t\t\t      sleep\n",
            " gcov\t\t\t\t      slogin\n",
            " gcov-11\t\t\t      snice\n",
            " gcov-dump\t\t\t      soelim\n",
            " gcov-dump-11\t\t\t      sort\n",
            " gcov-tool\t\t\t      splain\n",
            " gcov-tool-11\t\t\t      split\n",
            " gdal-config\t\t\t      sponge\n",
            " gdbus\t\t\t\t      ss\n",
            " genbrk\t\t\t\t      ssh\n",
            " gencat\t\t\t\t      ssh-add\n",
            " gencfu\t\t\t\t      ssh-agent\n",
            " gencnval\t\t\t      ssh-argv0\n",
            " gendict\t\t\t      ssh-copy-id\n",
            " genfio\t\t\t\t      ssh-keygen\n",
            " genrb\t\t\t\t      ssh-keyscan\n",
            " geos-config\t\t\t      stat\n",
            " geqn\t\t\t\t      stdbuf\n",
            " getconf\t\t\t      streamzip\n",
            " getent\t\t\t\t      strings\n",
            " getopt\t\t\t\t      strip\n",
            " gfortran\t\t\t      stty\n",
            " gfortran-11\t\t\t      su\n",
            " gio\t\t\t\t      sudo\n",
            " gio-querymodules\t\t      sudoedit\n",
            " git\t\t\t\t      sudoreplay\n",
            " git-lfs\t\t\t      sum\n",
            " git-receive-pack\t\t      sync\n",
            " git-shell\t\t\t      systemctl\n",
            " git-upload-archive\t\t      systemd\n",
            " git-upload-pack\t\t      systemd-analyze\n",
            " glib-compile-schemas\t\t      systemd-ask-password\n",
            " gmake\t\t\t\t      systemd-cat\n",
            " gml2gv\t\t\t\t      systemd-cgls\n",
            " gold\t\t\t\t      systemd-cgtop\n",
            " google-pprof\t\t\t      systemd-cryptenroll\n",
            " gpasswd\t\t\t      systemd-delta\n",
            " gpg\t\t\t\t      systemd-detect-virt\n",
            " gpg2\t\t\t\t      systemd-escape\n",
            " gpg-agent\t\t\t      systemd-id128\n",
            " gpgcompose\t\t\t      systemd-inhibit\n",
            " gpgconf\t\t\t      systemd-machine-id-setup\n",
            " gpg-connect-agent\t\t      systemd-mount\n",
            " gpgparsemail\t\t\t      systemd-notify\n",
            " gpgsm\t\t\t\t      systemd-path\n",
            " gpgsplit\t\t\t      systemd-run\n",
            " gpgtar\t\t\t\t      systemd-socket-activate\n",
            " gpgv\t\t\t\t      systemd-stdio-bridge\n",
            " gpg-wks-server\t\t\t      systemd-sysext\n",
            " gpg-zip\t\t\t      systemd-sysusers\n",
            " gpic\t\t\t\t      systemd-tmpfiles\n",
            " gprof\t\t\t\t      systemd-tty-ask-password-agent\n",
            " graphml2gv\t\t\t      systemd-umount\n",
            " grep\t\t\t\t      tabs\n",
            " gresource\t\t\t      tac\n",
            " groff\t\t\t\t      tail\n",
            " grog\t\t\t\t      tar\n",
            " grops\t\t\t\t      taskset\n",
            " grotty\t\t\t\t      tbl\n",
            " groups\t\t\t\t      tcldocstrip\n",
            " gsettings\t\t\t      tclsh\n",
            " gtbl\t\t\t\t      tclsh8.6\n",
            " gtk-update-icon-cache\t\t      tcltk-depends\n",
            " gunzip\t\t\t\t      tee\n",
            " gv2gml\t\t\t\t      tempfile\n",
            " gv2gxl\t\t\t\t      test\n",
            " gvcolor\t\t\t      tic\n",
            " gvgen\t\t\t\t      timedatectl\n",
            " gvmap\t\t\t\t      timeout\n",
            " gvmap.sh\t\t\t      tload\n",
            " gvpack\t\t\t\t      tmux\n",
            " gvpr\t\t\t\t      toe\n",
            " gxl2dot\t\t\t      top\n",
            " gxl2gv\t\t\t\t      touch\n",
            " gzexe\t\t\t\t      tput\n",
            " gzip\t\t\t\t      tr\n",
            " h2ph\t\t\t\t      tred\n",
            " h2xs\t\t\t\t      troff\n",
            " h5c++\t\t\t\t      true\n",
            " h5cc\t\t\t\t      truncate\n",
            " h5fc\t\t\t\t      ts\n",
            " hardlink\t\t\t      tset\n",
            " hd\t\t\t\t      tsort\n",
            " head\t\t\t\t      tty\n",
            " helpztags\t\t\t      twopi\n",
            " hexdump\t\t\t      tzselect\n",
            " hostid\t\t\t\t      ucf\n",
            " hostname\t\t\t      ucfq\n",
            " hostnamectl\t\t\t      ucfr\n",
            " i386\t\t\t\t      uclampset\n",
            " iconv\t\t\t\t      uconv\n",
            " icuexportdata\t\t\t      ul\n",
            " icuinfo\t\t\t      ulockmgr_server\n",
            " id\t\t\t\t      umount\n",
            " ifdata\t\t\t\t      uname\n",
            " ifnames\t\t\t      uncompress\n",
            " ifne\t\t\t\t      unexpand\n",
            " infocmp\t\t\t      unflatten\n",
            " infotocap\t\t\t      uniq\n",
            " inspect\t\t\t      unlink\n",
            " install\t\t\t      unlzma\n",
            " instmodsh\t\t\t      unpack200\n",
            " ionice\t\t\t\t      unrar\n",
            " ip\t\t\t\t      unrar-nonfree\n",
            " ipcmk\t\t\t\t      unshare\n",
            " ipcrm\t\t\t\t      unxz\n",
            " ipcs\t\t\t\t      unzip\n",
            " ischroot\t\t\t      unzipsfx\n",
            " isutf8\t\t\t\t      update-alternatives\n",
            " jaotc\t\t\t\t      update-mime-database\n",
            " jar\t\t\t\t      uptime\n",
            " jarsigner\t\t\t      users\n",
            " java\t\t\t\t      utmpdump\n",
            " javac\t\t\t\t      vdir\n",
            " javadoc\t\t\t      vi\n",
            " javap\t\t\t\t      vidir\n",
            " jcmd\t\t\t\t      view\n",
            " jdb\t\t\t\t      vim\n",
            " jdeprscan\t\t\t      vim.basic\n",
            " jdeps\t\t\t\t      vimdiff\n",
            " jexec\t\t\t\t      vimdot\n",
            " jfr\t\t\t\t      vimtutor\n",
            " jhsdb\t\t\t\t      vipe\n",
            " jimage\t\t\t\t      vmstat\n",
            " jinfo\t\t\t\t      w\n",
            " jjs\t\t\t\t      wall\n",
            " jlink\t\t\t\t      watch\n",
            " jmap\t\t\t\t      watchgnupg\n",
            " jmod\t\t\t\t      wc\n",
            " join\t\t\t\t      wdctl\n",
            " journalctl\t\t\t      wget\n",
            " jps\t\t\t\t      whatis\n",
            " jrunscript\t\t\t      whereis\n",
            " jshell\t\t\t\t      which\n",
            " json_pp\t\t\t      which.debianutils\n",
            " jstack\t\t\t\t      who\n",
            " jstat\t\t\t\t      whoami\n",
            " jstatd\t\t\t\t      wish\n",
            " kbxutil\t\t\t      wish8.6\n",
            " kernel-install\t\t\t      write\n",
            " keyring\t\t\t      write.ul\n",
            " keytool\t\t\t      X11\n",
            " kill\t\t\t\t      x86_64\n",
            " killall\t\t\t      x86_64-linux-gnu-addr2line\n",
            " kmod\t\t\t\t      x86_64-linux-gnu-ar\n",
            " krb5-config\t\t\t      x86_64-linux-gnu-as\n",
            " krb5-config.mit\t\t      x86_64-linux-gnu-c++filt\n",
            " last\t\t\t\t      x86_64-linux-gnu-cpp\n",
            " lastb\t\t\t\t      x86_64-linux-gnu-cpp-11\n",
            " lastlog\t\t\t      x86_64-linux-gnu-dwp\n",
            " lcf\t\t\t\t      x86_64-linux-gnu-elfedit\n",
            " lckdo\t\t\t\t      x86_64-linux-gnu-g++\n",
            " ld\t\t\t\t      x86_64-linux-gnu-g++-11\n",
            " ld.bfd\t\t\t\t      x86_64-linux-gnu-gcc\n",
            " ldd\t\t\t\t      x86_64-linux-gnu-gcc-11\n",
            " ld.gold\t\t\t      x86_64-linux-gnu-gcc-ar\n",
            " lefty\t\t\t\t      x86_64-linux-gnu-gcc-ar-11\n",
            " less\t\t\t\t      x86_64-linux-gnu-gcc-nm\n",
            " lessecho\t\t\t      x86_64-linux-gnu-gcc-nm-11\n",
            " lessfile\t\t\t      x86_64-linux-gnu-gcc-ranlib\n",
            " lesskey\t\t\t      x86_64-linux-gnu-gcc-ranlib-11\n",
            " lesspipe\t\t\t      x86_64-linux-gnu-gcov\n",
            " lexgrog\t\t\t      x86_64-linux-gnu-gcov-11\n",
            " libnetcfg\t\t\t      x86_64-linux-gnu-gcov-dump\n",
            " libpng16-config\t\t      x86_64-linux-gnu-gcov-dump-11\n",
            " libpng-config\t\t\t      x86_64-linux-gnu-gcov-tool\n",
            " link\t\t\t\t      x86_64-linux-gnu-gcov-tool-11\n",
            " linux32\t\t\t      x86_64-linux-gnu-gfortran\n",
            " linux64\t\t\t      x86_64-linux-gnu-gfortran-11\n",
            " ln\t\t\t\t      x86_64-linux-gnu-gold\n",
            " lneato\t\t\t\t      x86_64-linux-gnu-gprof\n",
            " lnstat\t\t\t\t      x86_64-linux-gnu-ld\n",
            " locale\t\t\t\t      x86_64-linux-gnu-ld.bfd\n",
            " locale-check\t\t\t      x86_64-linux-gnu-ld.gold\n",
            " localectl\t\t\t      x86_64-linux-gnu-lto-dump-11\n",
            " localedef\t\t\t      x86_64-linux-gnu-nm\n",
            " logger\t\t\t\t      x86_64-linux-gnu-objcopy\n",
            " login\t\t\t\t      x86_64-linux-gnu-objdump\n",
            " loginctl\t\t\t      x86_64-linux-gnu-pkg-config\n",
            " logname\t\t\t      x86_64-linux-gnu-python3.10-config\n",
            " look\t\t\t\t      x86_64-linux-gnu-python3-config\n",
            " ls\t\t\t\t      x86_64-linux-gnu-ranlib\n",
            " lsattr\t\t\t\t      x86_64-linux-gnu-readelf\n",
            " lsblk\t\t\t\t      x86_64-linux-gnu-size\n",
            " lsb_release\t\t\t      x86_64-linux-gnu-strings\n",
            " lscpu\t\t\t\t      x86_64-linux-gnu-strip\n",
            " lsipc\t\t\t\t      xargs\n",
            " lslocks\t\t\t      xauth\n",
            " lslogins\t\t\t      xdg-desktop-icon\n",
            " lsmem\t\t\t\t      xdg-desktop-menu\n",
            " lsmod\t\t\t\t      xdg-email\n",
            " lsns\t\t\t\t      xdg-icon-resource\n",
            " lsof\t\t\t\t      xdg-mime\n",
            " lspgpot\t\t\t      xdg-open\n",
            " lto-dump-11\t\t\t      xdg-screensaver\n",
            " lzcat\t\t\t\t      xdg-settings\n",
            " lzcmp\t\t\t\t      xml2-config\n",
            " lzdiff\t\t\t\t      xsubpp\n",
            " lzegrep\t\t\t      xxd\n",
            " lzfgrep\t\t\t      xz\n",
            " lzgrep\t\t\t\t      xzcat\n",
            " lzless\t\t\t\t      xzcmp\n",
            " lzma\t\t\t\t      xzdiff\n",
            " lzmainfo\t\t\t      xzegrep\n",
            " lzmore\t\t\t\t      xzfgrep\n",
            " m4\t\t\t\t      xzgrep\n",
            " make\t\t\t\t      xzless\n",
            " makeconv\t\t\t      xzmore\n",
            " make-first-existing-target\t      yes\n",
            " man\t\t\t\t      ypdomainname\n",
            " mandb\t\t\t\t      zcat\n",
            " manpath\t\t\t      zcmp\n",
            " man.REAL\t\t\t      zdiff\n",
            " man-recode\t\t\t      zdump\n",
            " mawk\t\t\t\t      zegrep\n",
            " mcookie\t\t\t      zfgrep\n",
            " md5sum\t\t\t\t      zforce\n",
            " md5sum.textutils\t\t      zgrep\n",
            " mesg\t\t\t\t      zip\n",
            " migrate-pubring-from-classic-gpg     zipcloak\n",
            " mingle\t\t\t\t      zipdetails\n",
            " mispipe\t\t\t      zipgrep\n",
            " mkdir\t\t\t\t      zipinfo\n",
            " mkfifo\t\t\t\t      zipnote\n",
            " mknod\t\t\t\t      zipsplit\n",
            " mktemp\t\t\t\t      zless\n",
            " mm2gv\t\t\t\t      zmore\n",
            " more\t\t\t\t      znew\n",
            " mount\t\t\t\t      zrun\n"
          ]
        }
      ]
    },
    {
      "cell_type": "code",
      "source": [
        "from google.colab import drive\n",
        "drive.mount(\"/content/drive\")"
      ],
      "metadata": {
        "colab": {
          "base_uri": "https://localhost:8080/"
        },
        "id": "Xwvq57ziVAYS",
        "outputId": "6bdb18c5-33d2-4fb1-e52b-4150f2a3c65a"
      },
      "execution_count": null,
      "outputs": [
        {
          "output_type": "stream",
          "name": "stdout",
          "text": [
            "Drive already mounted at /content/drive; to attempt to forcibly remount, call drive.mount(\"/content/drive\", force_remount=True).\n"
          ]
        }
      ]
    },
    {
      "cell_type": "code",
      "source": [
        "!ls \"/content/drive/My Drive/Colab Notebooks\""
      ],
      "metadata": {
        "id": "L1HI7fm7R1py",
        "colab": {
          "base_uri": "https://localhost:8080/"
        },
        "outputId": "df4d43e4-0792-4a51-944e-fab6ecc6043a"
      },
      "execution_count": null,
      "outputs": [
        {
          "output_type": "stream",
          "name": "stdout",
          "text": [
            "MyFirstColabNotebook.ipynb\n"
          ]
        }
      ]
    },
    {
      "cell_type": "code",
      "source": [
        "import numpy as np\n",
        "from matplotlib import pyplot as plt\n",
        "\n",
        "y = np.random.randn(100)\n",
        "x = [x for x in range(len(y))]\n",
        "\n",
        "plt.plot(x, y, '-')\n",
        "plt.fill_between(x, y, 200, where = (y > 195), facecolor='g', alpha=0.6)\n",
        "\n",
        "plt.title(\"Sample Plot\")\n",
        "plt.show()"
      ],
      "metadata": {
        "colab": {
          "base_uri": "https://localhost:8080/",
          "height": 452
        },
        "id": "6bT175j8VRP_",
        "outputId": "752fb61d-d03c-4507-bebc-5ebf3097e270"
      },
      "execution_count": null,
      "outputs": [
        {
          "output_type": "display_data",
          "data": {
            "text/plain": [
              "<Figure size 640x480 with 1 Axes>"
            ],
            "image/png": "[encoded data removed]"
          },
          "metadata": {}
        }
      ]
    },
    {
      "cell_type": "code",
      "source": [
        "%ldir"
      ],
      "metadata": {
        "colab": {
          "base_uri": "https://localhost:8080/"
        },
        "id": "AhkSeY9ZV0XM",
        "outputId": "4112c27d-7e90-4ad2-9525-2ef6ea5c1361"
      },
      "execution_count": null,
      "outputs": [
        {
          "output_type": "stream",
          "name": "stdout",
          "text": [
            "drwx------ 5 root    4096 Aug 28 01:09 \u001b[01;34mdrive\u001b[0m/\n",
            "drwxr-xr-x 3 root    4096 Aug 28 01:09 \u001b[01;34mkeras-mnist-tutorial\u001b[0m/\n",
            "drwxr-xr-x 1 root    4096 Aug 26 13:24 \u001b[01;34msample_data\u001b[0m/\n"
          ]
        }
      ]
    },
    {
      "cell_type": "code",
      "source": [
        "%history"
      ],
      "metadata": {
        "colab": {
          "base_uri": "https://localhost:8080/"
        },
        "id": "UvtbW2GvXd8f",
        "outputId": "8b937327-8d4c-4945-d129-63dae9283718"
      },
      "execution_count": null,
      "outputs": [
        {
          "output_type": "stream",
          "name": "stdout",
          "text": [
            "import time\n",
            "print(time.ctime())\n",
            "time.sleep(5)\n",
            "print (time.ctime())\n",
            "message = 'A Great Tutorial on Colab by Tutorialspoint!'\n",
            "greeting = !echo -e \"$message\\n$message\"\n",
            "greeting\n",
            "!pwd\n",
            "# /content is the default location in your Colab session\n",
            "\n",
            "!wget https://archive.ics.uci.edu/static/public/2/adult.zip -P \"/content\"\n",
            "!ls\n",
            "!unzip \"/content/adult.zip\"\n",
            "import pandas as pd\n",
            "data = pd.read_csv(\"/content/adult.data\")\n",
            "data.head(5)\n",
            "from google.colab import files\n",
            "uploaded = files.upload()\n",
            "data = pd.read_csv(\"/content/stocks.csv\")\n",
            "data.head(5)\n",
            "!git clone https://github.com/wxs/keras-mnist-tutorial.git\n",
            "!ls /bin\n",
            "from google.colab import drive\n",
            "drive.mount(\"/content/drive\")\n",
            "!ls \"/content/drive/My Drive/Colab Notebooks\"\n",
            "import numpy as np\n",
            "from matplotlib import pyplot as plt\n",
            "\n",
            "y = np.random.randn(100)\n",
            "x = [x for x in range(len(y))]\n",
            "\n",
            "plt.plot(x, y, '-')\n",
            "plt.fill_between(x, y, 200, where = (y > 195), facecolor='g', alpha=0.6)\n",
            "\n",
            "plt.title(\"Sample Plot\")\n",
            "plt.show()\n",
            "%ldir\n",
            "%history\n"
          ]
        }
      ]
    },
    {
      "cell_type": "code",
      "source": [
        "%%html\n",
        "<marquee style='width: 50%; color: Green;'>Welcome to Tutorialspoint!</marquee>"
      ],
      "metadata": {
        "colab": {
          "base_uri": "https://localhost:8080/",
          "height": 39
        },
        "id": "a1EaSw5fXgYO",
        "outputId": "1d14a27d-c01e-4ddd-b495-f675744604d0"
      },
      "execution_count": null,
      "outputs": [
        {
          "output_type": "display_data",
          "data": {
            "text/plain": [
              "<IPython.core.display.HTML object>"
            ],
            "text/html": [
              "<marquee style='width: 50%; color: Green;'>Welcome to Tutorialspoint!</marquee>\n"
            ]
          },
          "metadata": {}
        }
      ]
    },
    {
      "cell_type": "code",
      "source": [
        "%%html\n",
        "<svg xmlns=\"https://www.w3.org/2000/svg\" viewBox=\"0 0 600 400\" width=\"400\" height=\"400\">\n",
        "   <rect x=\"10\" y=\"00\" width=\"300\" height=\"100\" rx=\"0\" style=\"fill:orange; stroke:black; fill-opacity:1.0\" />\n",
        "   <rect x=\"10\" y=\"100\" width=\"300\" height=\"100\" rx=\"0\" style=\"fill:white; stroke:black; fill-opacity:1.0;\" />\n",
        "   <rect x=\"10\" y=\"200\" width=\"300\" height=\"100\" rx=\"0\" style=\"fill:green; stroke:black; fill-opacity:1.0;\" />\n",
        "</svg>"
      ],
      "metadata": {
        "colab": {
          "base_uri": "https://localhost:8080/",
          "height": 421
        },
        "id": "yMyC4T4vXlv3",
        "outputId": "ee68a9b8-c5aa-4b15-e23a-2e00d8144a4d"
      },
      "execution_count": null,
      "outputs": [
        {
          "output_type": "display_data",
          "data": {
            "text/plain": [
              "<IPython.core.display.HTML object>"
            ],
            "text/html": [
              "<svg xmlns=\"https://www.w3.org/2000/svg\" viewBox=\"0 0 600 400\" width=\"400\" height=\"400\">\n",
              "   <rect x=\"10\" y=\"00\" width=\"300\" height=\"100\" rx=\"0\" style=\"fill:orange; stroke:black; fill-opacity:1.0\" />\n",
              "   <rect x=\"10\" y=\"100\" width=\"300\" height=\"100\" rx=\"0\" style=\"fill:white; stroke:black; fill-opacity:1.0;\" />\n",
              "   <rect x=\"10\" y=\"200\" width=\"300\" height=\"100\" rx=\"0\" style=\"fill:green; stroke:black; fill-opacity:1.0;\" />\n",
              "</svg>\n"
            ]
          },
          "metadata": {}
        }
      ]
    },
    {
      "cell_type": "code",
      "source": [
        "%lsmagic"
      ],
      "metadata": {
        "colab": {
          "base_uri": "https://localhost:8080/",
          "height": 243
        },
        "id": "sfbTnkj3Xo0P",
        "outputId": "ea8d6639-3467-4326-9e59-b027ace276f8"
      },
      "execution_count": null,
      "outputs": [
        {
          "output_type": "execute_result",
          "data": {
            "text/plain": [
              "Available line magics:\n",
              "%alias  %alias_magic  %autoawait  %autocall  %automagic  %autosave  %bookmark  %cat  %cd  %clear  %colors  %conda  %config  %connect_info  %cp  %debug  %dhist  %dirs  %doctest_mode  %ed  %edit  %env  %gui  %hist  %history  %killbgscripts  %ldir  %less  %lf  %lk  %ll  %load  %load_ext  %loadpy  %logoff  %logon  %logstart  %logstate  %logstop  %ls  %lsmagic  %lx  %macro  %magic  %man  %matplotlib  %mkdir  %more  %mv  %notebook  %page  %pastebin  %pdb  %pdef  %pdoc  %pfile  %pinfo  %pinfo2  %pip  %popd  %pprint  %precision  %prun  %psearch  %psource  %pushd  %pwd  %pycat  %pylab  %qtconsole  %quickref  %recall  %rehashx  %reload_ext  %rep  %rerun  %reset  %reset_selective  %rm  %rmdir  %run  %save  %sc  %set_env  %shell  %store  %sx  %system  %tb  %tensorflow_version  %time  %timeit  %unalias  %unload_ext  %who  %who_ls  %whos  %xdel  %xmode\n",
              "\n",
              "Available cell magics:\n",
              "%%!  %%HTML  %%SVG  %%bash  %%bigquery  %%capture  %%debug  %%file  %%html  %%javascript  %%js  %%latex  %%markdown  %%perl  %%prun  %%pypy  %%python  %%python2  %%python3  %%ruby  %%script  %%sh  %%shell  %%svg  %%sx  %%system  %%time  %%timeit  %%writefile\n",
              "\n",
              "Automagic is ON, % prefix IS NOT needed for line magics."
            ],
            "application/json": {
              "line": {
                "automagic": "AutoMagics",
                "autocall": "AutoMagics",
                "alias_magic": "BasicMagics",
                "lsmagic": "BasicMagics",
                "magic": "BasicMagics",
                "page": "BasicMagics",
                "pprint": "BasicMagics",
                "colors": "BasicMagics",
                "xmode": "BasicMagics",
                "quickref": "BasicMagics",
                "doctest_mode": "BasicMagics",
                "gui": "BasicMagics",
                "precision": "BasicMagics",
                "notebook": "BasicMagics",
                "save": "CodeMagics",
                "pastebin": "CodeMagics",
                "loadpy": "CodeMagics",
                "load": "CodeMagics",
                "edit": "KernelMagics",
                "config": "ConfigMagics",
                "prun": "ExecutionMagics",
                "pdb": "ExecutionMagics",
                "debug": "ExecutionMagics",
                "tb": "ExecutionMagics",
                "run": "ExecutionMagics",
                "timeit": "ExecutionMagics",
                "time": "ExecutionMagics",
                "macro": "ExecutionMagics",
                "load_ext": "ExtensionMagics",
                "unload_ext": "ExtensionMagics",
                "reload_ext": "ExtensionMagics",
                "history": "HistoryMagics",
                "recall": "HistoryMagics",
                "rerun": "HistoryMagics",
                "logstart": "LoggingMagics",
                "logstop": "LoggingMagics",
                "logoff": "LoggingMagics",
                "logon": "LoggingMagics",
                "logstate": "LoggingMagics",
                "pinfo": "NamespaceMagics",
                "pinfo2": "NamespaceMagics",
                "pdef": "NamespaceMagics",
                "pdoc": "NamespaceMagics",
                "psource": "NamespaceMagics",
                "pfile": "NamespaceMagics",
                "psearch": "NamespaceMagics",
                "who_ls": "NamespaceMagics",
                "who": "NamespaceMagics",
                "whos": "NamespaceMagics",
                "reset": "NamespaceMagics",
                "reset_selective": "NamespaceMagics",
                "xdel": "NamespaceMagics",
                "alias": "OSMagics",
                "unalias": "OSMagics",
                "rehashx": "OSMagics",
                "pwd": "OSMagics",
                "cd": "OSMagics",
                "env": "OSMagics",
                "set_env": "OSMagics",
                "pushd": "OSMagics",
                "popd": "OSMagics",
                "dirs": "OSMagics",
                "dhist": "OSMagics",
                "sc": "OSMagics",
                "sx": "OSMagics",
                "system": "OSMagics",
                "bookmark": "OSMagics",
                "pycat": "OSMagics",
                "pip": "Other",
                "conda": "PackagingMagics",
                "matplotlib": "PylabMagics",
                "pylab": "PylabMagics",
                "killbgscripts": "ScriptMagics",
                "autoawait": "AsyncMagics",
                "ed": "Other",
                "hist": "Other",
                "rep": "Other",
                "clear": "KernelMagics",
                "less": "KernelMagics",
                "more": "KernelMagics",
                "man": "KernelMagics",
                "connect_info": "KernelMagics",
                "qtconsole": "KernelMagics",
                "autosave": "KernelMagics",
                "mkdir": "Other",
                "rmdir": "Other",
                "mv": "Other",
                "rm": "Other",
                "cp": "Other",
                "cat": "Other",
                "ls": "Other",
                "ll": "Other",
                "lf": "Other",
                "lk": "Other",
                "ldir": "Other",
                "lx": "Other",
                "store": "StoreMagics",
                "shell": "Other",
                "tensorflow_version": "Other"
              },
              "cell": {
                "js": "DisplayMagics",
                "javascript": "DisplayMagics",
                "latex": "DisplayMagics",
                "svg": "DisplayMagics",
                "html": "DisplayMagics",
                "markdown": "DisplayMagics",
                "prun": "ExecutionMagics",
                "debug": "ExecutionMagics",
                "timeit": "ExecutionMagics",
                "time": "ExecutionMagics",
                "capture": "ExecutionMagics",
                "sx": "OSMagics",
                "system": "OSMagics",
                "!": "OSMagics",
                "writefile": "OSMagics",
                "script": "ScriptMagics",
                "sh": "Other",
                "bash": "Other",
                "perl": "Other",
                "ruby": "Other",
                "python": "Other",
                "python2": "Other",
                "python3": "Other",
                "pypy": "Other",
                "SVG": "Other",
                "HTML": "Other",
                "file": "Other",
                "bigquery": "Other",
                "shell": "Other"
              }
            }
          },
          "metadata": {},
          "execution_count": 20
        }
      ]
    },
    {
      "cell_type": "code",
      "source": [
        "import tensorflow as tf\n",
        "mnist = tf.keras.datasets.mnist\n",
        "print(\"Data is being loaded\")"
      ],
      "metadata": {
        "colab": {
          "base_uri": "https://localhost:8080/"
        },
        "id": "avShvpV4idAJ",
        "outputId": "a8475736-fb1d-4544-d7b3-03224b5b6bb2"
      },
      "execution_count": null,
      "outputs": [
        {
          "output_type": "stream",
          "name": "stdout",
          "text": [
            "Data is being loaded\n"
          ]
        }
      ]
    },
    {
      "cell_type": "code",
      "source": [
        "tf.test.gpu_device_name()"
      ],
      "metadata": {
        "colab": {
          "base_uri": "https://localhost:8080/",
          "height": 35
        },
        "id": "PX3iA4NNkFgp",
        "outputId": "e65e017c-4021-4053-cedc-65a74b860fd2"
      },
      "execution_count": null,
      "outputs": [
        {
          "output_type": "execute_result",
          "data": {
            "text/plain": [
              "'/device:GPU:0'"
            ],
            "application/vnd.google.colaboratory.intrinsic+json": {
              "type": "string"
            }
          },
          "metadata": {},
          "execution_count": 22
        }
      ]
    },
    {
      "cell_type": "code",
      "source": [
        "from tensorflow.python.client import device_lib\n",
        "device_lib.list_local_devices()"
      ],
      "metadata": {
        "colab": {
          "base_uri": "https://localhost:8080/"
        },
        "id": "lfw1D6MMkNeD",
        "outputId": "d439bb8b-a398-4607-e32b-01f978199d1e"
      },
      "execution_count": null,
      "outputs": [
        {
          "output_type": "execute_result",
          "data": {
            "text/plain": [
              "[name: \"/device:CPU:0\"\n",
              " device_type: \"CPU\"\n",
              " memory_limit: 268435456\n",
              " locality {\n",
              " }\n",
              " incarnation: 13723499640441218977\n",
              " xla_global_id: -1,\n",
              " name: \"/device:GPU:0\"\n",
              " device_type: \"GPU\"\n",
              " memory_limit: 14626652160\n",
              " locality {\n",
              "   bus_id: 1\n",
              "   links {\n",
              "   }\n",
              " }\n",
              " incarnation: 15316845184161133193\n",
              " physical_device_desc: \"device: 0, name: Tesla T4, pci bus id: 0000:00:04.0, compute capability: 7.5\"\n",
              " xla_global_id: 416903419]"
            ]
          },
          "metadata": {},
          "execution_count": 23
        }
      ]
    },
    {
      "cell_type": "code",
      "source": [
        "!cat /proc/meminfo"
      ],
      "metadata": {
        "colab": {
          "base_uri": "https://localhost:8080/"
        },
        "id": "Kzp5h-PWdFgm",
        "outputId": "bface205-7e5d-4896-8e15-a6a9e9214589"
      },
      "execution_count": null,
      "outputs": [
        {
          "output_type": "stream",
          "name": "stdout",
          "text": [
            "MemTotal:       13290460 kB\n",
            "MemFree:         3491564 kB\n",
            "MemAvailable:   11688680 kB\n",
            "Buffers:          433704 kB\n",
            "Cached:          7834404 kB\n",
            "SwapCached:            0 kB\n",
            "Active:          1290144 kB\n",
            "Inactive:        7917648 kB\n",
            "Active(anon):       1988 kB\n",
            "Inactive(anon):   950288 kB\n",
            "Active(file):    1288156 kB\n",
            "Inactive(file):  6967360 kB\n",
            "Unevictable:          20 kB\n",
            "Mlocked:              20 kB\n",
            "SwapTotal:             0 kB\n",
            "SwapFree:              0 kB\n",
            "Dirty:               584 kB\n",
            "Writeback:             0 kB\n",
            "AnonPages:        939724 kB\n",
            "Mapped:           846664 kB\n",
            "Shmem:             12580 kB\n",
            "KReclaimable:     267004 kB\n",
            "Slab:             333356 kB\n",
            "SReclaimable:     267004 kB\n",
            "SUnreclaim:        66352 kB\n",
            "KernelStack:        7488 kB\n",
            "PageTables:        12368 kB\n",
            "SecPageTables:         0 kB\n",
            "NFS_Unstable:          0 kB\n",
            "Bounce:                0 kB\n",
            "WritebackTmp:          0 kB\n",
            "CommitLimit:     6645228 kB\n",
            "Committed_AS:    4183940 kB\n",
            "VmallocTotal:   34359738367 kB\n",
            "VmallocUsed:       81980 kB\n",
            "VmallocChunk:          0 kB\n",
            "Percpu:             1120 kB\n",
            "HardwareCorrupted:     0 kB\n",
            "AnonHugePages:         0 kB\n",
            "ShmemHugePages:        0 kB\n",
            "ShmemPmdMapped:        0 kB\n",
            "FileHugePages:         0 kB\n",
            "FilePmdMapped:         0 kB\n",
            "CmaTotal:              0 kB\n",
            "CmaFree:               0 kB\n",
            "Unaccepted:            0 kB\n",
            "HugePages_Total:       0\n",
            "HugePages_Free:        0\n",
            "HugePages_Rsvd:        0\n",
            "HugePages_Surp:        0\n",
            "Hugepagesize:       2048 kB\n",
            "Hugetlb:               0 kB\n",
            "DirectMap4k:      320312 kB\n",
            "DirectMap2M:     8065024 kB\n",
            "DirectMap1G:     7340032 kB\n"
          ]
        }
      ]
    }
  ]
}