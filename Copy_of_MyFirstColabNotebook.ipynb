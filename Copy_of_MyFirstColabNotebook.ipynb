{
  "nbformat": 4,
  "nbformat_minor": 0,
  "metadata": {
    "colab": {
      "provenance": [],
      "authorship_tag": "ABX9TyO+d8dX2dAI2Yr1PF+YJOIb",
      "include_colab_link": true
    },
    "kernelspec": {
      "name": "python3",
      "display_name": "Python 3"
    },
    "language_info": {
      "name": "python"
    }
  },
  "cells": [
    {
      "cell_type": "markdown",
      "metadata": {
        "id": "view-in-github",
        "colab_type": "text"
      },
      "source": [
        "<a href=\"https://colab.research.google.com/github/orandolph8/BikeShare/blob/main/Copy_of_MyFirstColabNotebook.ipynb\" target=\"_parent\"><img src=\"https://colab.research.google.com/assets/colab-badge.svg\" alt=\"Open In Colab\"/></a>"
      ]
    },
    {
      "cell_type": "code",
      "execution_count": null,
      "metadata": {
        "colab": {
          "base_uri": "https://localhost:8080/"
        },
        "id": "Hf00ILSY0oNa",
        "outputId": "0686000d-073c-49c2-9f42-2a2a8d096303"
      },
      "outputs": [
        {
          "output_type": "stream",
          "name": "stdout",
          "text": [
            "Tue Aug 27 12:35:56 2024\n"
          ]
        }
      ],
      "source": [
        "import time\n",
        "print(time.ctime())"
      ]
    },
    {
      "cell_type": "code",
      "source": [
        "time.sleep(5)\n",
        "print(time.ctime())"
      ],
      "metadata": {
        "colab": {
          "base_uri": "https://localhost:8080/"
        },
        "id": "0F30P3540394",
        "outputId": "88c4f466-069e-4380-d1f8-97d56c52f361"
      },
      "execution_count": null,
      "outputs": [
        {
          "output_type": "stream",
          "name": "stdout",
          "text": [
            "Tue Aug 27 12:38:52 2024\n"
          ]
        }
      ]
    },
    {
      "cell_type": "code",
      "source": [],
      "metadata": {
        "id": "DAlDL_M12H9_"
      },
      "execution_count": null,
      "outputs": []
    },
    {
      "cell_type": "markdown",
      "source": [
        "This is ~strikethrough~"
      ],
      "metadata": {
        "id": "RSvdZN0r2NZg"
      }
    },
    {
      "cell_type": "markdown",
      "source": [
        "This is **bold**"
      ],
      "metadata": {
        "id": "W1IMCzCO2ItX"
      }
    },
    {
      "cell_type": "markdown",
      "source": [
        "$\\sqrt{3x-1}+(1+x)^2$\n"
      ],
      "metadata": {
        "id": "dPfPAptO2gRj"
      }
    },
    {
      "cell_type": "markdown",
      "source": [
        "$e^x = \\sum_{i=0}^\\infty \\frac{1}{i!}x^i$"
      ],
      "metadata": {
        "id": "_zeSWaJK2_Kz"
      }
    },
    {
      "cell_type": "code",
      "source": [],
      "metadata": {
        "id": "iwDsjsYF3jXw"
      },
      "execution_count": null,
      "outputs": []
    },
    {
      "cell_type": "markdown",
      "source": [
        "Constraints are\n",
        "  \n",
        "\n",
        "*   -$3x_1 + 6x_2 + x_3 =< 28$\n",
        "*   -$7x_1 + 3x_2 + 2x_3 =< 37$\n",
        "*   -$x_1+x_2,x_3 >= 0$\n",
        "*   $∑{3_x -1}$\n",
        "\n",
        "\n",
        "\n",
        "\n",
        "\n",
        "\n",
        "  \n",
        "  \n"
      ],
      "metadata": {
        "id": "Nj64UH2k3-zv"
      }
    }
  ]
}